{
 "cells": [
  {
   "cell_type": "code",
   "execution_count": 22,
   "metadata": {},
   "outputs": [],
   "source": [
    "import json\n",
    "from haralyzer import HarParser, HarPage\n",
    "import requests\n",
    "from bs4 import BeautifulSoup\n",
    "import re\n",
    "with open('vinaphoneplus.com.vn.har', 'r') as f:\n",
    "    har_parser = json.loads(f.read())\n",
    "    "
   ]
  },
  {
   "cell_type": "code",
   "execution_count": 42,
   "metadata": {},
   "outputs": [
    {
     "name": "stdout",
     "output_type": "stream",
     "text": [
      "['__class__', '__contains__', '__delattr__', '__delitem__', '__dir__', '__doc__', '__eq__', '__format__', '__ge__', '__getattribute__', '__getitem__', '__gt__', '__hash__', '__init__', '__init_subclass__', '__iter__', '__le__', '__len__', '__lt__', '__ne__', '__new__', '__reduce__', '__reduce_ex__', '__repr__', '__setattr__', '__setitem__', '__sizeof__', '__str__', '__subclasshook__', 'clear', 'copy', 'fromkeys', 'get', 'items', 'keys', 'pop', 'popitem', 'setdefault', 'update', 'values']\n",
      "https://apiquantri.vinaphoneplus.com.vn/api/APIForWebApp/Api_XemThongTinChuongTrinhUuDai?CTUuDaiId=25908&Token=\n"
     ]
    },
    {
     "name": "stderr",
     "output_type": "stream",
     "text": [
      "/home/nero/anaconda3/envs/testpy3-6/lib/python3.6/site-packages/urllib3/connectionpool.py:988: InsecureRequestWarning: Unverified HTTPS request is being made to host 'apiquantri.vinaphoneplus.com.vn'. Adding certificate verification is strongly advised. See: https://urllib3.readthedocs.io/en/latest/advanced-usage.html#ssl-warnings\n",
      "  InsecureRequestWarning,\n"
     ]
    },
    {
     "ename": "AttributeError",
     "evalue": "'str' object has no attribute 'decode'",
     "output_type": "error",
     "traceback": [
      "\u001b[0;31m---------------------------------------------------------------------------\u001b[0m",
      "\u001b[0;31mAttributeError\u001b[0m                            Traceback (most recent call last)",
      "\u001b[0;32m<ipython-input-42-dc9f5b13a7a0>\u001b[0m in \u001b[0;36m<module>\u001b[0;34m()\u001b[0m\n\u001b[1;32m     17\u001b[0m         \u001b[0mmota\u001b[0m \u001b[0;34m=\u001b[0m \u001b[0mre\u001b[0m\u001b[0;34m.\u001b[0m\u001b[0msub\u001b[0m\u001b[0;34m(\u001b[0m\u001b[0;34m'<[^<]+?>'\u001b[0m\u001b[0;34m,\u001b[0m \u001b[0;34m''\u001b[0m\u001b[0;34m,\u001b[0m \u001b[0mjson_str\u001b[0m\u001b[0;34m[\u001b[0m\u001b[0;34m'data'\u001b[0m\u001b[0;34m]\u001b[0m\u001b[0;34m[\u001b[0m\u001b[0;36m0\u001b[0m\u001b[0;34m]\u001b[0m\u001b[0;34m[\u001b[0m\u001b[0;36m0\u001b[0m\u001b[0;34m]\u001b[0m\u001b[0;34m[\u001b[0m\u001b[0;34m'MoTa'\u001b[0m\u001b[0;34m]\u001b[0m\u001b[0;34m)\u001b[0m\u001b[0;34m\u001b[0m\u001b[0;34m\u001b[0m\u001b[0m\n\u001b[1;32m     18\u001b[0m \u001b[0;31m#         print(mota)\u001b[0m\u001b[0;34m\u001b[0m\u001b[0;34m\u001b[0m\u001b[0;34m\u001b[0m\u001b[0m\n\u001b[0;32m---> 19\u001b[0;31m         \u001b[0mprint\u001b[0m\u001b[0;34m(\u001b[0m\u001b[0mmota\u001b[0m\u001b[0;34m.\u001b[0m\u001b[0mdecode\u001b[0m\u001b[0;34m(\u001b[0m\u001b[0;34m'utf-8'\u001b[0m\u001b[0;34m,\u001b[0m\u001b[0;34m\"strict\"\u001b[0m\u001b[0;34m)\u001b[0m\u001b[0;34m)\u001b[0m\u001b[0;34m\u001b[0m\u001b[0;34m\u001b[0m\u001b[0m\n\u001b[0m\u001b[1;32m     20\u001b[0m \u001b[0;31m#         print(BeautifulSoup(response.text).get_text)\u001b[0m\u001b[0;34m\u001b[0m\u001b[0;34m\u001b[0m\u001b[0;34m\u001b[0m\u001b[0m\n\u001b[1;32m     21\u001b[0m \u001b[0;31m#         soup = BeautifulSoup(response.text)\u001b[0m\u001b[0;34m\u001b[0m\u001b[0;34m\u001b[0m\u001b[0;34m\u001b[0m\u001b[0m\n",
      "\u001b[0;31mAttributeError\u001b[0m: 'str' object has no attribute 'decode'"
     ]
    }
   ],
   "source": [
    "print(dir(har_parser))\n",
    "har_parser.keys()\n",
    "# for parse in har_parser['log']:\n",
    "#     if 'Api_XemThongTinChuongTrinhUuDai' in parse:\n",
    "#         print('asda')\n",
    "with open('1.har', 'r') as f:\n",
    "    har_parser = json.loads(f.read())\n",
    "for i in range(len(har_parser['log']['entries'])):\n",
    "    s = har_parser['log']['entries'][i]['request']['url']\n",
    "    if 'Api_XemThongTinChuongTrinhUuDai' in s:\n",
    "        print(s)\n",
    "        response = requests.get(s,verify = False)\n",
    "        json_str = json.loads(response.content)\n",
    "#         print(json_str)\n",
    "#         re.sub('<[^<]+?>', '', json_str)\n",
    "#         cleantext = BeautifulSoup(json_str['data'][0][0]['MoTa'], \"lxml\").text\n",
    "        mota = re.sub('<[^<]+?>', '', json_str['data'][0][0]['MoTa'])\n",
    "#         print(mota)\n",
    "        print(mota.encode('utf-8',\"strict\").decode('utf-8'))\n",
    "#         print(BeautifulSoup(response.text).get_text)\n",
    "#         soup = BeautifulSoup(response.text)\n",
    "#         text = soup.get_text()\n",
    "#         print(response.text.encode().decode(\"utf-8\"))"
   ]
  },
  {
   "cell_type": "code",
   "execution_count": 3,
   "metadata": {},
   "outputs": [],
   "source": [
    "with open('vinaphoneplus.com.vn.har', 'r') as f:\n",
    "    har_page = HarPage('1', har_data=json.loads(f.read()))"
   ]
  },
  {
   "cell_type": "code",
   "execution_count": 4,
   "metadata": {},
   "outputs": [
    {
     "data": {
      "text/plain": [
       "['__class__',\n",
       " '__delattr__',\n",
       " '__dict__',\n",
       " '__dir__',\n",
       " '__doc__',\n",
       " '__eq__',\n",
       " '__format__',\n",
       " '__ge__',\n",
       " '__getattribute__',\n",
       " '__gt__',\n",
       " '__hash__',\n",
       " '__init__',\n",
       " '__init_subclass__',\n",
       " '__le__',\n",
       " '__lt__',\n",
       " '__module__',\n",
       " '__ne__',\n",
       " '__new__',\n",
       " '__reduce__',\n",
       " '__reduce_ex__',\n",
       " '__repr__',\n",
       " '__setattr__',\n",
       " '__sizeof__',\n",
       " '__str__',\n",
       " '__subclasshook__',\n",
       " '__weakref__',\n",
       " '_get_asset_files',\n",
       " '_get_asset_load',\n",
       " '_get_asset_size',\n",
       " '_get_asset_size_trans',\n",
       " 'actual_page',\n",
       " 'asset_types',\n",
       " 'audio_files',\n",
       " 'audio_load_time',\n",
       " 'audio_size',\n",
       " 'audio_size_trans',\n",
       " 'content_load_time',\n",
       " 'css_files',\n",
       " 'css_load_time',\n",
       " 'css_size',\n",
       " 'css_size_trans',\n",
       " 'duplicate_url_request',\n",
       " 'entries',\n",
       " 'filter_entries',\n",
       " 'get_load_time',\n",
       " 'get_requests',\n",
       " 'get_total_size',\n",
       " 'get_total_size_trans',\n",
       " 'hostname',\n",
       " 'html_files',\n",
       " 'html_load_time',\n",
       " 'image_files',\n",
       " 'image_load_time',\n",
       " 'image_size',\n",
       " 'image_size_trans',\n",
       " 'initial_load_time',\n",
       " 'js_files',\n",
       " 'js_load_time',\n",
       " 'js_size',\n",
       " 'js_size_trans',\n",
       " 'pageTimings',\n",
       " 'page_id',\n",
       " 'page_load_time',\n",
       " 'page_size',\n",
       " 'page_size_trans',\n",
       " 'parser',\n",
       " 'post_requests',\n",
       " 'startedDateTime',\n",
       " 'text_files',\n",
       " 'text_size',\n",
       " 'text_size_trans',\n",
       " 'time_to_first_byte',\n",
       " 'title',\n",
       " 'url',\n",
       " 'video_files',\n",
       " 'video_load_time',\n",
       " 'video_size',\n",
       " 'video_size_trans']"
      ]
     },
     "execution_count": 4,
     "metadata": {},
     "output_type": "execute_result"
    }
   ],
   "source": [
    "dir(har_page)"
   ]
  },
  {
   "cell_type": "code",
   "execution_count": null,
   "metadata": {},
   "outputs": [],
   "source": []
  }
 ],
 "metadata": {
  "kernelspec": {
   "display_name": "Python 3",
   "language": "python",
   "name": "python3"
  },
  "language_info": {
   "codemirror_mode": {
    "name": "ipython",
    "version": 3
   },
   "file_extension": ".py",
   "mimetype": "text/x-python",
   "name": "python",
   "nbconvert_exporter": "python",
   "pygments_lexer": "ipython3",
   "version": "3.6.10"
  }
 },
 "nbformat": 4,
 "nbformat_minor": 4
}
