{
 "cells": [
  {
   "cell_type": "code",
   "execution_count": null,
   "metadata": {},
   "outputs": [],
   "source": []
  },
  {
   "cell_type": "code",
   "execution_count": 1,
   "metadata": {},
   "outputs": [],
   "source": [
    "import requests"
   ]
  },
  {
   "cell_type": "code",
   "execution_count": 2,
   "metadata": {},
   "outputs": [],
   "source": [
    "import requests\n",
    "\n",
    "header =  {'Accept': 'application/json, text/plain, */*',\n",
    "                   'Accept-Encoding': 'gzip, deflate, br',\n",
    "                   'Accept-Language': 'vi-VN,vi;q=0.9,en-US;q=0.8,en;q=0.7',\n",
    "                   'Connection': 'keep-alive',\n",
    "                   'Content-Length': '0',\n",
    "                   'Cookie': '_ga=GA1.3.1846747131.1598840350; _gid=GA1.3.1601226693.1598840350',\n",
    "                   'Host': 'apiquantri.vinaphoneplus.com.vn',\n",
    "                   'Origin': 'https://vinaphoneplus.com.vn',\n",
    "                   'Referer': 'https://vinaphoneplus.com.vn/',\n",
    "                   'Sec-Fetch-Dest': 'empty',\n",
    "                   'Sec-Fetch-Mode': 'cors',\n",
    "                   'Sec-Fetch-Site': 'same-site',\n",
    "                   'User-Agent': 'Mozilla/5.0 (X11; Linux x86_64) AppleWebKit/537.36 (KHTML, like Gecko) Chrome/84.0.4147.135 Safari/537.36', }\n"
   ]
  },
  {
   "cell_type": "code",
   "execution_count": null,
   "metadata": {},
   "outputs": [],
   "source": []
  },
  {
   "cell_type": "code",
   "execution_count": null,
   "metadata": {},
   "outputs": [],
   "source": []
  }
 ],
 "metadata": {
  "kernelspec": {
   "display_name": "Python 3",
   "language": "python",
   "name": "python3"
  },
  "language_info": {
   "codemirror_mode": {
    "name": "ipython",
    "version": 3
   },
   "file_extension": ".py",
   "mimetype": "text/x-python",
   "name": "python",
   "nbconvert_exporter": "python",
   "pygments_lexer": "ipython3",
   "version": "3.6.10"
  }
 },
 "nbformat": 4,
 "nbformat_minor": 4
}
